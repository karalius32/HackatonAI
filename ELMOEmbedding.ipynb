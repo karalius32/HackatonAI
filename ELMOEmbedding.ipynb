{
  "nbformat": 4,
  "nbformat_minor": 0,
  "metadata": {
    "colab": {
      "provenance": [],
      "gpuType": "T4",
      "mount_file_id": "1my7PD4Q-odEyNc_Z1P4MA2fj8tYRLn2I",
      "authorship_tag": "ABX9TyOZopbc0s1EFyOFfIAO9M05",
      "include_colab_link": true
    },
    "kernelspec": {
      "name": "python3",
      "display_name": "Python 3"
    },
    "language_info": {
      "name": "python"
    },
    "accelerator": "GPU"
  },
  "cells": [
    {
      "cell_type": "markdown",
      "metadata": {
        "id": "view-in-github",
        "colab_type": "text"
      },
      "source": [
        "<a href=\"https://colab.research.google.com/github/karalius32/HackatonAI/blob/main/ELMOEmbedding.ipynb\" target=\"_parent\"><img src=\"https://colab.research.google.com/assets/colab-badge.svg\" alt=\"Open In Colab\"/></a>"
      ]
    },
    {
      "cell_type": "code",
      "source": [
        "import csv\n",
        "#!pip install \"tensorflow>=2.0.0\"\n",
        "#!pip install --upgrade tensorflow-hub\n",
        "#!pip install tensorflow.compat.v1\n",
        "!pip install --upgrade simple_elmo\n",
        "\n",
        "from simple_elmo import ElmoModel\n",
        "import tensorflow as tf\n",
        "import tensorflow_hub as hub"
      ],
      "metadata": {
        "colab": {
          "base_uri": "https://localhost:8080/"
        },
        "collapsed": true,
        "id": "iZYWgeezgJy9",
        "outputId": "813c68f7-9e31-4c6b-8d2b-ce527f90ea8a"
      },
      "execution_count": 1,
      "outputs": [
        {
          "output_type": "stream",
          "name": "stdout",
          "text": [
            "Requirement already satisfied: simple_elmo in /usr/local/lib/python3.10/dist-packages (0.9.2)\n",
            "Requirement already satisfied: h5py in /usr/local/lib/python3.10/dist-packages (from simple_elmo) (3.9.0)\n",
            "Requirement already satisfied: numpy in /usr/local/lib/python3.10/dist-packages (from simple_elmo) (1.25.2)\n",
            "Requirement already satisfied: smart-open>1.8.1 in /usr/local/lib/python3.10/dist-packages (from simple_elmo) (6.4.0)\n",
            "Requirement already satisfied: pandas in /usr/local/lib/python3.10/dist-packages (from simple_elmo) (2.0.3)\n",
            "Requirement already satisfied: scipy in /usr/local/lib/python3.10/dist-packages (from simple_elmo) (1.11.4)\n",
            "Requirement already satisfied: python-dateutil>=2.8.2 in /usr/local/lib/python3.10/dist-packages (from pandas->simple_elmo) (2.8.2)\n",
            "Requirement already satisfied: pytz>=2020.1 in /usr/local/lib/python3.10/dist-packages (from pandas->simple_elmo) (2023.4)\n",
            "Requirement already satisfied: tzdata>=2022.1 in /usr/local/lib/python3.10/dist-packages (from pandas->simple_elmo) (2024.1)\n",
            "Requirement already satisfied: six>=1.5 in /usr/local/lib/python3.10/dist-packages (from python-dateutil>=2.8.2->pandas->simple_elmo) (1.16.0)\n"
          ]
        }
      ]
    },
    {
      "cell_type": "code",
      "execution_count": 2,
      "metadata": {
        "id": "xUEmFf4Mfjkn"
      },
      "outputs": [],
      "source": [
        "trainFile = open('/content/all_articles_with_questions_train.csv')\n",
        "\n",
        "lines = csv.reader(trainFile)\n",
        "header = next(lines)\n",
        "\n",
        "questions = []\n",
        "answers = []\n",
        "symbols = []\n",
        "\n",
        "\n",
        "for line in lines:\n",
        "  questions.append(line[0])\n",
        "  answers.append(line[1])\n",
        "  symbols.append(line[2])\n"
      ]
    },
    {
      "cell_type": "code",
      "source": [
        "#simple-elmo realization\n",
        "model = ElmoModel()\n",
        "#download from https://allenai.org/allennlp/software/elmo, in the folder goes hdf5 and json files\n",
        "#kazkodel neleidzia antra karta leisti to model load, tenka restarting sesija\n",
        "model.load(\"/content/ELMO\", max_batch_size=6)"
      ],
      "metadata": {
        "colab": {
          "base_uri": "https://localhost:8080/",
          "height": 90
        },
        "id": "hM0HEov5yUwb",
        "outputId": "f6dac4ba-7c0a-40d3-e603-f7c847dd61cc",
        "collapsed": true
      },
      "execution_count": 3,
      "outputs": [
        {
          "output_type": "stream",
          "name": "stderr",
          "text": [
            "/usr/local/lib/python3.10/dist-packages/simple_elmo/model.py:531: UserWarning: `tf.nn.rnn_cell.LSTMCell` is deprecated and will be removed in a future version. This class is equivalent as `tf.keras.layers.LSTMCell`, and will be replaced by that in Tensorflow 2.0.\n",
            "  lstm_cell = tf.compat.v1.nn.rnn_cell.LSTMCell(\n"
          ]
        },
        {
          "output_type": "execute_result",
          "data": {
            "text/plain": [
              "'The model is now loaded.'"
            ],
            "application/vnd.google.colaboratory.intrinsic+json": {
              "type": "string"
            }
          },
          "metadata": {},
          "execution_count": 3
        }
      ]
    },
    {
      "cell_type": "code",
      "source": [
        "questionEmbeddings = model.get_elmo_vectors(questions)\n",
        "print(questionEmbeddings[0][0])\n",
        "answerEmbeddings = model.get_elmo_vectors(answers)"
      ],
      "metadata": {
        "colab": {
          "base_uri": "https://localhost:8080/"
        },
        "id": "b__mZ-f66XiS",
        "outputId": "5faeb725-be6a-443b-aca3-9d16586d98ef"
      },
      "execution_count": null,
      "outputs": [
        {
          "output_type": "stream",
          "name": "stdout",
          "text": [
            "[ 0.5011735  -0.6548658  -0.45409584  0.10333754 -0.54886878 -0.70226038\n",
            "  0.47101185  0.16393185  0.05697539  0.48321483  0.21413289  0.36994746\n",
            "  0.17640999  0.02739322  0.21697     0.11283965  1.13738513  0.03867549\n",
            "  0.65323865  0.35934654 -0.35980085 -0.18592036  0.15240219  0.54333556\n",
            "  0.22556169  0.05022399 -0.0567866   0.05097097 -0.39614865  0.12082987\n",
            " -0.20239812  0.01061703 -0.30617362  0.1120894  -0.45783287  0.01810233\n",
            "  1.01798952 -0.170283   -0.32588106  0.466162    0.05346221 -0.78168619\n",
            " -0.33093372  0.05925851  0.49960044 -0.24622537  0.28391248 -0.35857391\n",
            " -0.34085965  0.47891119  0.48358613 -0.21884516  0.31540412 -0.26765811\n",
            " -0.77016127 -0.23686303  0.13631341  0.47518653  0.70765352  0.12452801\n",
            " -0.49415672  0.47098541 -0.37569749 -0.58175451  0.19451469  0.26716799\n",
            "  0.33566257 -0.14353661 -0.1939449  -0.59968197  0.93900228  0.24340078\n",
            "  0.27768064  0.35660732  0.8258425  -0.11623196 -0.16956401  0.04689689\n",
            " -0.48364714 -1.021101   -0.29202974 -0.03323285  0.43383849 -0.1794149\n",
            "  0.11710192  0.37183577 -0.24618463 -0.22794463 -0.11772437 -0.51515359\n",
            "  0.26740056 -0.38384455 -0.21227235  0.45218685 -0.07391044  0.15383235\n",
            "  1.18969178 -0.33344579  0.02153861  0.039733    0.46180201  0.25428039\n",
            "  0.20367083  0.61948168  0.25005975 -0.03185647 -0.44308907  0.72592002\n",
            " -0.53199703 -0.72321427 -1.01204884  0.23240258  0.4407469   0.14030452\n",
            "  0.64302766  0.14521509 -0.38873625 -0.33853808 -0.1166347  -0.33367077\n",
            " -0.30503181 -0.4161728   0.3648288   0.02870195 -0.61370385  0.03864907\n",
            " -0.20109807  0.26980662  0.17497453  0.28393909  0.20576417  0.46162862\n",
            " -0.30748281  0.41377667  0.45167235 -0.18908428 -0.23171863  0.27265283\n",
            "  0.0518796   0.12363228  0.2416458  -0.75954956 -0.8008101  -0.6813336\n",
            "  0.4145889   0.27098629  0.27147573  0.16497903 -0.42195794 -0.34470239\n",
            "  0.5831095   0.00581753 -0.45845053 -0.57579964  0.23134169  0.01095532\n",
            "  0.20952569 -0.06339306 -0.15227304 -0.34386185  0.02089006  0.19791064\n",
            " -0.23384395 -0.90404809  0.21335007  0.01481283  0.04803985  0.31198525\n",
            " -0.17527896  0.26088077 -0.37211603 -0.38984972 -0.18790525  0.02972194\n",
            " -0.60853088 -0.68345726 -1.22809005 -0.58371896  0.33807984  0.01082325\n",
            "  0.82242429 -0.41492063 -0.47098589 -0.72962695  1.35400319 -0.10669985\n",
            "  0.36198664  0.21439408 -0.67483371  0.17453296 -1.36934805 -0.08872683\n",
            "  0.1747956   0.45893559  0.33080205  0.87476283  0.03778629 -0.31137037\n",
            "  0.4983741   0.60581577  0.40001988  0.10165595  1.05812788  0.22573243\n",
            " -1.2876904   0.0040963  -0.14278138 -0.33451802  0.18100634  0.44883531\n",
            "  0.87983394  0.01107052 -0.14389434 -0.95327598  0.15217642 -0.36327294\n",
            " -0.05695659 -0.61385775  0.89425647 -0.47051787 -1.02446353  0.94256628\n",
            "  0.67499232  0.85865974  1.12469602 -0.85226554  0.59360117 -0.4874326\n",
            "  1.49315333 -0.48323315 -0.44017613  0.91655028  0.24103545 -0.50406027\n",
            "  0.73035705  1.46915317  0.49746299 -0.37840816 -1.44088089 -0.06504526\n",
            "  0.69487023  0.06022739 -0.28444529  0.39443931 -0.55948269 -0.13309708\n",
            "  0.08274864 -0.76163703  0.09443226 -0.09260044 -0.93040907  0.31411779\n",
            " -0.78155363  0.15184602 -0.18307292 -0.19779897]\n"
          ]
        }
      ]
    }
  ]
}