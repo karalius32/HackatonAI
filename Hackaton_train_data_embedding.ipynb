{
  "cells": [
    {
      "cell_type": "markdown",
      "metadata": {
        "id": "rFPTBjfCxoH4"
      },
      "source": [
        "Importing required libraries"
      ]
    },
    {
      "cell_type": "code",
      "execution_count": null,
      "metadata": {
        "colab": {
          "base_uri": "https://localhost:8080/"
        },
        "id": "hnWaQB_9dRXy",
        "outputId": "e6d06e33-0ba6-43a3-86e0-1ebfd5ad5db7"
      },
      "outputs": [],
      "source": [
        "!pip install simple_elmo"
      ]
    },
    {
      "cell_type": "code",
      "execution_count": 2,
      "metadata": {
        "id": "y1LQ-g11WYk1"
      },
      "outputs": [],
      "source": [
        "import pandas as pd\n",
        "import numpy as np\n",
        "from matplotlib import pyplot as plt\n",
        "import re\n",
        "from simple_elmo import ElmoModel"
      ]
    },
    {
      "cell_type": "markdown",
      "metadata": {
        "id": "SqqyGq8LlOIa"
      },
      "source": [
        "Loading ELMO (download from http://vectors.nlpl.eu/repository/20/194.zip and unzip)"
      ]
    },
    {
      "cell_type": "code",
      "execution_count": null,
      "metadata": {
        "colab": {
          "base_uri": "https://localhost:8080/",
          "height": 90
        },
        "id": "iqrpUZM2f9q3",
        "outputId": "8850e056-e17f-4eac-a1ef-dd032cb3f662"
      },
      "outputs": [],
      "source": [
        "elmo_model = ElmoModel()\n",
        "elmo_model.load(\"/content/drive/MyDrive/Colab files/Hackaton/194\")"
      ]
    },
    {
      "cell_type": "markdown",
      "metadata": {
        "id": "HsN9o1NRlLcL"
      },
      "source": [
        "Loading data and splitting it to word vectors"
      ]
    },
    {
      "cell_type": "code",
      "execution_count": 4,
      "metadata": {
        "id": "0ieiikJfcKSS"
      },
      "outputs": [],
      "source": [
        "train_data = pd.read_csv(\"/content/drive/MyDrive/Colab files/Hackaton/all_articles_with_questions_train.csv\")\n",
        "\n",
        "lambda_split_sentence = lambda x: [word for word in re.split(\"[ ,.:;?!–…\\t|’“”^()„—+=\\n]\", x) if len(word) > 1]\n",
        "\n",
        "train_data[\"question\"] = train_data[\"question\"].apply(lambda_split_sentence)\n",
        "train_data[\"raw_text\"] = train_data[\"raw_text\"].apply(lambda_split_sentence)"
      ]
    },
    {
      "cell_type": "markdown",
      "metadata": {
        "id": "zycgqKNuxSod"
      },
      "source": [
        "Embedding data (20-30h)"
      ]
    },
    {
      "cell_type": "code",
      "execution_count": 5,
      "metadata": {
        "id": "8PqskerQjHvp"
      },
      "outputs": [],
      "source": [
        "lambda_get_elmo_vectors = lambda x: elmo_model.get_elmo_vectors([x])\n",
        "\n",
        "embedded_questions = train_data[\"question\"].apply(lambda_get_elmo_vectors)\n",
        "embedded_raw_data = train_data[\"raw_text\"].apply(lambda_get_elmo_vectors)"
      ]
    },
    {
      "cell_type": "markdown",
      "metadata": {
        "id": "Cd0louBHxXtn"
      },
      "source": [
        "Exporting data (about 12gb)"
      ]
    },
    {
      "cell_type": "code",
      "execution_count": 44,
      "metadata": {
        "id": "5_5-b4DOuUes"
      },
      "outputs": [],
      "source": [
        "np.savez(\"embedded_data.npz\", question=embedded_questions, raw_data=embedded_raw_data)"
      ]
    }
  ],
  "metadata": {
    "accelerator": "GPU",
    "colab": {
      "gpuType": "T4",
      "provenance": []
    },
    "kernelspec": {
      "display_name": "Python 3",
      "name": "python3"
    },
    "language_info": {
      "name": "python"
    }
  },
  "nbformat": 4,
  "nbformat_minor": 0
}
