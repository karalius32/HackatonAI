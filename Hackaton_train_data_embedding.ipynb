{
  "nbformat": 4,
  "nbformat_minor": 0,
  "metadata": {
    "colab": {
      "provenance": [],
      "gpuType": "T4"
    },
    "kernelspec": {
      "name": "python3",
      "display_name": "Python 3"
    },
    "language_info": {
      "name": "python"
    },
    "accelerator": "GPU"
  },
  "cells": [
    {
      "cell_type": "markdown",
      "source": [
        "Importing required libraries"
      ],
      "metadata": {
        "id": "rFPTBjfCxoH4"
      }
    },
    {
      "cell_type": "code",
      "source": [
        "!pip install simple_elmo"
      ],
      "metadata": {
        "colab": {
          "base_uri": "https://localhost:8080/"
        },
        "id": "hnWaQB_9dRXy",
        "outputId": "e6d06e33-0ba6-43a3-86e0-1ebfd5ad5db7"
      },
      "execution_count": 1,
      "outputs": [
        {
          "output_type": "stream",
          "name": "stdout",
          "text": [
            "Collecting simple_elmo\n",
            "  Downloading simple_elmo-0.9.2-py3-none-any.whl (46 kB)\n",
            "\u001b[?25l     \u001b[90m━━━━━━━━━━━━━━━━━━━━━━━━━━━━━━━━━━━━━━━━\u001b[0m \u001b[32m0.0/46.2 kB\u001b[0m \u001b[31m?\u001b[0m eta \u001b[36m-:--:--\u001b[0m\r\u001b[2K     \u001b[90m━━━━━━━━━━━━━━━━━━━━━━━━━━━━━━━━━━━━━━━━\u001b[0m \u001b[32m46.2/46.2 kB\u001b[0m \u001b[31m2.1 MB/s\u001b[0m eta \u001b[36m0:00:00\u001b[0m\n",
            "\u001b[?25hRequirement already satisfied: h5py in /usr/local/lib/python3.10/dist-packages (from simple_elmo) (3.9.0)\n",
            "Requirement already satisfied: numpy in /usr/local/lib/python3.10/dist-packages (from simple_elmo) (1.25.2)\n",
            "Requirement already satisfied: smart-open>1.8.1 in /usr/local/lib/python3.10/dist-packages (from simple_elmo) (6.4.0)\n",
            "Requirement already satisfied: pandas in /usr/local/lib/python3.10/dist-packages (from simple_elmo) (2.0.3)\n",
            "Requirement already satisfied: scipy in /usr/local/lib/python3.10/dist-packages (from simple_elmo) (1.11.4)\n",
            "Requirement already satisfied: python-dateutil>=2.8.2 in /usr/local/lib/python3.10/dist-packages (from pandas->simple_elmo) (2.8.2)\n",
            "Requirement already satisfied: pytz>=2020.1 in /usr/local/lib/python3.10/dist-packages (from pandas->simple_elmo) (2023.4)\n",
            "Requirement already satisfied: tzdata>=2022.1 in /usr/local/lib/python3.10/dist-packages (from pandas->simple_elmo) (2024.1)\n",
            "Requirement already satisfied: six>=1.5 in /usr/local/lib/python3.10/dist-packages (from python-dateutil>=2.8.2->pandas->simple_elmo) (1.16.0)\n",
            "Installing collected packages: simple_elmo\n",
            "Successfully installed simple_elmo-0.9.2\n"
          ]
        }
      ]
    },
    {
      "cell_type": "code",
      "execution_count": 2,
      "metadata": {
        "id": "y1LQ-g11WYk1"
      },
      "outputs": [],
      "source": [
        "import pandas as pd\n",
        "import numpy as np\n",
        "from matplotlib import pyplot as plt\n",
        "import re\n",
        "from simple_elmo import ElmoModel"
      ]
    },
    {
      "cell_type": "markdown",
      "source": [
        "Loading ELMO (download from http://vectors.nlpl.eu/repository/20/194.zip and unzip)"
      ],
      "metadata": {
        "id": "SqqyGq8LlOIa"
      }
    },
    {
      "cell_type": "code",
      "source": [
        "elmo_model = ElmoModel()\n",
        "elmo_model.load(\"/content/drive/MyDrive/Colab files/Hackaton/194\")"
      ],
      "metadata": {
        "colab": {
          "base_uri": "https://localhost:8080/",
          "height": 90
        },
        "id": "iqrpUZM2f9q3",
        "outputId": "8850e056-e17f-4eac-a1ef-dd032cb3f662"
      },
      "execution_count": 3,
      "outputs": [
        {
          "output_type": "stream",
          "name": "stderr",
          "text": [
            "/usr/local/lib/python3.10/dist-packages/simple_elmo/model.py:531: UserWarning: `tf.nn.rnn_cell.LSTMCell` is deprecated and will be removed in a future version. This class is equivalent as `tf.keras.layers.LSTMCell`, and will be replaced by that in Tensorflow 2.0.\n",
            "  lstm_cell = tf.compat.v1.nn.rnn_cell.LSTMCell(\n"
          ]
        },
        {
          "output_type": "execute_result",
          "data": {
            "text/plain": [
              "'The model is now loaded.'"
            ],
            "application/vnd.google.colaboratory.intrinsic+json": {
              "type": "string"
            }
          },
          "metadata": {},
          "execution_count": 3
        }
      ]
    },
    {
      "cell_type": "markdown",
      "source": [
        "Loading data and splitting it to word vectors"
      ],
      "metadata": {
        "id": "HsN9o1NRlLcL"
      }
    },
    {
      "cell_type": "code",
      "source": [
        "train_data = pd.read_csv(\"/content/drive/MyDrive/Colab files/Hackaton/all_articles_with_questions_train.csv\")\n",
        "\n",
        "lambda_split_sentence = lambda x: [word for word in re.split(\"[ ,.:;?!–…\\t|’“”^()„—+=\\n]\", x) if len(word) > 1]\n",
        "\n",
        "train_data[\"question\"] = train_data[\"question\"].apply(lambda_split_sentence)\n",
        "train_data[\"raw_text\"] = train_data[\"raw_text\"].apply(lambda_split_sentence)"
      ],
      "metadata": {
        "id": "0ieiikJfcKSS"
      },
      "execution_count": 4,
      "outputs": []
    },
    {
      "cell_type": "markdown",
      "source": [
        "Embedding data (20-30h)"
      ],
      "metadata": {
        "id": "zycgqKNuxSod"
      }
    },
    {
      "cell_type": "code",
      "source": [
        "lambda_get_elmo_vectors = lambda x: elmo_model.get_elmo_vectors([x])\n",
        "\n",
        "embedded_questions = train_data[\"question\"].apply(lambda_get_elmo_vectors)\n",
        "embedded_raw_data = train_data[\"raw_text\"].apply(lambda_get_elmo_vectors)"
      ],
      "metadata": {
        "id": "8PqskerQjHvp"
      },
      "execution_count": 5,
      "outputs": []
    },
    {
      "cell_type": "markdown",
      "source": [
        "Exporting data (about 12gb)"
      ],
      "metadata": {
        "id": "Cd0louBHxXtn"
      }
    },
    {
      "cell_type": "code",
      "source": [
        "np.savez(\"embedded_data.npz\", question=embedded_questions, raw_data=embedded_raw_data)"
      ],
      "metadata": {
        "id": "5_5-b4DOuUes"
      },
      "execution_count": 44,
      "outputs": []
    }
  ]
}